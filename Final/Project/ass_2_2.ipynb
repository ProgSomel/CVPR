{
 "cells": [
  {
   "cell_type": "code",
   "execution_count": 6,
   "metadata": {},
   "outputs": [],
   "source": [
    "import cv2\n",
    "import numpy as np\n",
    "from tensorflow.keras.models import load_model\n",
    "from tensorflow.keras import layers, models\n"
   ]
  },
  {
   "cell_type": "code",
   "execution_count": 7,
   "metadata": {},
   "outputs": [],
   "source": [
    "# Import necessary libraries\n",
    "import cv2\n",
    "import numpy as np\n",
    "from tensorflow.keras.models import load_model\n",
    "\n",
    "# Load the face mask detection model\n",
    "model = load_model('../TASKS/mask_detection_model.h5')  # Replace with the actual path to your model\n",
    "\n",
    "# Define the function to draw a label on the image\n",
    "def draw_label(img, text, pos, bg_color):\n",
    "    text_size = cv2.getTextSize(text, cv2.FONT_HERSHEY_SIMPLEX, 1, cv2.FILLED)\n",
    "    end_x = pos[0] + text_size[0][0] + 2\n",
    "    end_y = pos[1] + text_size[0][1] - 2\n",
    "    cv2.rectangle(img, pos, (end_x, end_y), bg_color, cv2.FILLED)\n",
    "    cv2.putText(img, text, pos, cv2.FONT_HERSHEY_SIMPLEX, 1, (0, 0, 0), 1, cv2.LINE_AA)\n",
    "\n",
    "# Define the function to detect the presence of a face mask in an image\n",
    "def detect_face_mask(img):\n",
    "    # Resize the image and preprocess it\n",
    "    img = cv2.resize(img, (224, 224))\n",
    "    img = img.astype(\"float32\") / 255.0\n",
    "    img = np.expand_dims(img, axis=0)\n",
    "    \n",
    "    # Make predictions using the loaded model\n",
    "    predictions = model.predict(img)[0]\n",
    "    \n",
    "    # Return the index of the maximum prediction\n",
    "    return np.argmax(predictions)\n",
    "\n",
    "\n"
   ]
  },
  {
   "cell_type": "code",
   "execution_count": 8,
   "metadata": {},
   "outputs": [
    {
     "ename": "AttributeError",
     "evalue": "module 'tensorflow.keras.models' has no attribute 'predict'",
     "output_type": "error",
     "traceback": [
      "\u001b[1;31m---------------------------------------------------------------------------\u001b[0m",
      "\u001b[1;31mAttributeError\u001b[0m                            Traceback (most recent call last)",
      "Cell \u001b[1;32mIn[8], line 14\u001b[0m\n\u001b[0;32m     11\u001b[0m     \u001b[38;5;28;01mcontinue\u001b[39;00m\n\u001b[0;32m     13\u001b[0m \u001b[38;5;66;03m# Detect the presence of a face mask in the frame\u001b[39;00m\n\u001b[1;32m---> 14\u001b[0m prediction \u001b[38;5;241m=\u001b[39m \u001b[43mdetect_face_mask\u001b[49m\u001b[43m(\u001b[49m\u001b[43mframe\u001b[49m\u001b[43m)\u001b[49m\n\u001b[0;32m     16\u001b[0m \u001b[38;5;66;03m# Draw labels on the frame based on the predictions\u001b[39;00m\n\u001b[0;32m     17\u001b[0m labels \u001b[38;5;241m=\u001b[39m [\u001b[38;5;124m\"\u001b[39m\u001b[38;5;124mMask\u001b[39m\u001b[38;5;124m\"\u001b[39m, \u001b[38;5;124m\"\u001b[39m\u001b[38;5;124mNo Mask\u001b[39m\u001b[38;5;124m\"\u001b[39m, \u001b[38;5;124m\"\u001b[39m\u001b[38;5;124mIncorrect Mask\u001b[39m\u001b[38;5;124m\"\u001b[39m]\n",
      "Cell \u001b[1;32mIn[7], line 17\u001b[0m, in \u001b[0;36mdetect_face_mask\u001b[1;34m(img)\u001b[0m\n\u001b[0;32m     14\u001b[0m img \u001b[38;5;241m=\u001b[39m np\u001b[38;5;241m.\u001b[39mexpand_dims(img, axis\u001b[38;5;241m=\u001b[39m\u001b[38;5;241m0\u001b[39m)\n\u001b[0;32m     16\u001b[0m \u001b[38;5;66;03m# Make three predictions using the model\u001b[39;00m\n\u001b[1;32m---> 17\u001b[0m predictions \u001b[38;5;241m=\u001b[39m \u001b[43mmodels\u001b[49m\u001b[38;5;241;43m.\u001b[39;49m\u001b[43mpredict\u001b[49m(img)[\u001b[38;5;241m0\u001b[39m]\n\u001b[0;32m     19\u001b[0m \u001b[38;5;66;03m# Return the index of the maximum prediction\u001b[39;00m\n\u001b[0;32m     20\u001b[0m \u001b[38;5;28;01mreturn\u001b[39;00m np\u001b[38;5;241m.\u001b[39margmax(predictions)\n",
      "\u001b[1;31mAttributeError\u001b[0m: module 'tensorflow.keras.models' has no attribute 'predict'"
     ]
    }
   ],
   "source": [
    "# Open the default camera\n",
    "cap = cv2.VideoCapture(0)\n",
    "\n",
    "# Main loop\n",
    "while True:\n",
    "    # Capture the frame from the camera\n",
    "    ret, frame = cap.read()\n",
    "\n",
    "    # If the frame cannot be captured, continue to the next frame\n",
    "    if not ret:\n",
    "        continue\n",
    "\n",
    "    # Detect the presence of a face mask in the frame\n",
    "    prediction = detect_face_mask(frame)\n",
    "\n",
    "    # Draw labels on the frame based on the predictions\n",
    "    labels = [\"Mask\", \"No Mask\", \"Incorrect Mask\"]\n",
    "    colors = [(0, 255, 0), (0, 0, 255), (255, 165, 0)]  # Green, Red, Orange\n",
    "\n",
    "    draw_label(frame, labels[prediction], (30, 30), colors[prediction])\n",
    "\n",
    "    # Display the resulting frame\n",
    "    cv2.imshow(\"Face Mask Detection\", frame)\n",
    "\n",
    "    # Break the loop if the 'x' key is pressed\n",
    "    if cv2.waitKey(1) & 0xFF == ord('x'):\n",
    "        break\n",
    "\n",
    "# Release the camera and close all windows\n",
    "cap.release()\n",
    "cv2.destroyAllWindows()"
   ]
  }
 ],
 "metadata": {
  "kernelspec": {
   "display_name": "myenv",
   "language": "python",
   "name": "python3"
  },
  "language_info": {
   "codemirror_mode": {
    "name": "ipython",
    "version": 3
   },
   "file_extension": ".py",
   "mimetype": "text/x-python",
   "name": "python",
   "nbconvert_exporter": "python",
   "pygments_lexer": "ipython3",
   "version": "3.10.13"
  }
 },
 "nbformat": 4,
 "nbformat_minor": 2
}
