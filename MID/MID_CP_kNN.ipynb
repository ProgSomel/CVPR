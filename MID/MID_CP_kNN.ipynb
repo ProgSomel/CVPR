{
 "cells": [
  {
   "cell_type": "code",
   "execution_count": 2,
   "id": "633f6dc6",
   "metadata": {},
   "outputs": [],
   "source": [
    "import cv2\n",
    "import numpy as np\n",
    "import os\n",
    "import matplotlib.pyplot as plt\n",
    "from tqdm import tqdm\n",
    "import random"
   ]
  },
  {
   "cell_type": "code",
   "execution_count": 3,
   "id": "b261a2ac",
   "metadata": {},
   "outputs": [],
   "source": [
    "def load_images_from_folder(folder):\n",
    "    images = []\n",
    "    labels = []\n",
    "    for category in os.listdir(folder):\n",
    "            for filename in tqdm(os.listdir(os.path.join(folder,category))):\n",
    "                img = cv2.imread(os.path.join(folder,category,filename))\n",
    "                if img is not None:\n",
    "                    img = cv2.cvtColor(img, cv2.COLOR_BGR2RGB)\n",
    "                    images.append(img)\n",
    "                    labels.append(category)\n",
    "    return np.array(images), np.array(labels)"
   ]
  },
  {
   "cell_type": "code",
   "execution_count": 14,
   "id": "c7b95987",
   "metadata": {},
   "outputs": [],
   "source": [
    "train_folder = 'D:\\\\train'"
   ]
  },
  {
   "cell_type": "code",
   "execution_count": 15,
   "id": "a4c6fe45",
   "metadata": {},
   "outputs": [
    {
     "name": "stderr",
     "output_type": "stream",
     "text": [
      "100%|█████████████████████████████████████████████████████████████████████████████| 5000/5000 [00:39<00:00, 127.33it/s]\n",
      "100%|█████████████████████████████████████████████████████████████████████████████| 5000/5000 [00:38<00:00, 131.14it/s]\n",
      "100%|█████████████████████████████████████████████████████████████████████████████| 5000/5000 [00:36<00:00, 136.92it/s]\n",
      "100%|█████████████████████████████████████████████████████████████████████████████| 5000/5000 [00:37<00:00, 133.90it/s]\n",
      "100%|█████████████████████████████████████████████████████████████████████████████| 5000/5000 [00:38<00:00, 129.18it/s]\n",
      "100%|█████████████████████████████████████████████████████████████████████████████| 5000/5000 [00:38<00:00, 131.54it/s]\n",
      "100%|█████████████████████████████████████████████████████████████████████████████| 5000/5000 [00:39<00:00, 126.20it/s]\n",
      "100%|█████████████████████████████████████████████████████████████████████████████| 5000/5000 [00:44<00:00, 112.09it/s]\n",
      "100%|█████████████████████████████████████████████████████████████████████████████| 5000/5000 [00:40<00:00, 122.40it/s]\n",
      "100%|█████████████████████████████████████████████████████████████████████████████| 5000/5000 [00:41<00:00, 120.50it/s]\n"
     ]
    }
   ],
   "source": [
    "train_images, train_labels = load_images_from_folder(train_folder)"
   ]
  },
  {
   "cell_type": "code",
   "execution_count": null,
   "id": "f0029cf6",
   "metadata": {},
   "outputs": [],
   "source": []
  },
  {
   "cell_type": "code",
   "execution_count": null,
   "id": "b8632632",
   "metadata": {},
   "outputs": [],
   "source": []
  }
 ],
 "metadata": {
  "kernelspec": {
   "display_name": "Python 3 (ipykernel)",
   "language": "python",
   "name": "python3"
  },
  "language_info": {
   "codemirror_mode": {
    "name": "ipython",
    "version": 3
   },
   "file_extension": ".py",
   "mimetype": "text/x-python",
   "name": "python",
   "nbconvert_exporter": "python",
   "pygments_lexer": "ipython3",
   "version": "3.8.18"
  }
 },
 "nbformat": 4,
 "nbformat_minor": 5
}
